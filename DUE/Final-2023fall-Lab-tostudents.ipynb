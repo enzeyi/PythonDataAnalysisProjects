{
 "cells": [
  {
   "cell_type": "markdown",
   "metadata": {},
   "source": [
    "<center><h1> The final test (Lab part), 2023 Fall</h1><center>\n",
    "\n",
    "<center>\n",
    "<h2>PETE 219 – Foundations of Petroleum Data Analytics</h2>    \n",
    "<h3>Texas A&amp;M University<br>\n",
    "Harold Vance Department of Petroleum Engineering<br><br>\n",
    "Fall 2023<br>    \n",
    "</h3>\n",
    "</center>\n"
   ]
  },
  {
   "cell_type": "markdown",
   "metadata": {},
   "source": [
    "### Submit your ipynb file only. The file name is your Lastname_Firstname (eg. Kim_Jihoon.ipynb). Otherwise, the penaltyof -1 point will apply.\n",
    "### Your main tasks are to build the code to answer the following question.\n",
    "### As you did in the lab assignement, please make the code and run it."
   ]
  },
  {
   "cell_type": "code",
   "execution_count": 1,
   "metadata": {},
   "outputs": [],
   "source": [
    "# Run the following code for basic libraries of Machine learning.\n",
    "import numpy as np\n",
    "import pandas as pd\n",
    "import matplotlib.pyplot as plt\n",
    "\n",
    "# import Sklearn tools\n",
    "from sklearn.linear_model import LinearRegression\n",
    "from sklearn.metrics import mean_squared_error\n",
    "from sklearn.metrics import r2_score\n",
    "import datetime\n",
    "\n",
    "from scipy import optimize"
   ]
  },
  {
   "cell_type": "markdown",
   "metadata": {},
   "source": [
    "### You further need to import particular libraries when you are coding."
   ]
  },
  {
   "cell_type": "markdown",
   "metadata": {},
   "source": [
    "**Q.1 (2 points) DCA regression** "
   ]
  },
  {
   "cell_type": "code",
   "execution_count": 2,
   "metadata": {},
   "outputs": [],
   "source": [
    "# Make computer code for the follwoing jobs.\n",
    "\n",
    "# Import data set of 'norne_production_rate_sample.csv'\n",
    "# Convert date string to Panda datetime format\n",
    "\n",
    "# convert date string to Panda datetime format\n"
   ]
  },
  {
   "cell_type": "code",
   "execution_count": 4,
   "metadata": {
    "scrolled": true
   },
   "outputs": [],
   "source": [
    "# Select the data  from 2004-06-02 (June 2nd) to 2006-05-01 (May 1st) by indexing the date and flow rate\n",
    "\n",
    "# Convert the date data to numpy arrays just as you did in the lab.\n",
    "\n",
    "# # # take cumulative sum over timedeltas\n"
   ]
  },
  {
   "cell_type": "code",
   "execution_count": 5,
   "metadata": {},
   "outputs": [],
   "source": [
    "# Normalize the time and rate data\n"
   ]
  },
  {
   "cell_type": "code",
   "execution_count": 6,
   "metadata": {},
   "outputs": [],
   "source": [
    "# By using the function for hyperbolic decline as follows,\n",
    "def hyperbolic(t, qi, di, b):\n",
    "  return qi / (np.abs((1 + b * di * t))**(1/b))"
   ]
  },
  {
   "cell_type": "code",
   "execution_count": null,
   "metadata": {},
   "outputs": [],
   "source": [
    "# Perfrom the curve fitting with the hyperbolic function\n"
   ]
  },
  {
   "cell_type": "code",
   "execution_count": null,
   "metadata": {},
   "outputs": [],
   "source": [
    "# De-normalize qi and di\n",
    "\n",
    "# Forecast gas rate until 1,200 days\n",
    "# Plot the production data with the forecasts (rate and cum. production)\n",
    "# You can use the code used in the lab assignment for the plotting\n"
   ]
  },
  {
   "cell_type": "code",
   "execution_count": null,
   "metadata": {},
   "outputs": [],
   "source": []
  },
  {
   "cell_type": "markdown",
   "metadata": {},
   "source": [
    "**Q.2 (7 points) Supervised learning** "
   ]
  },
  {
   "cell_type": "markdown",
   "metadata": {},
   "source": [
    "   **Q.2-1 (3 points) Data preparation and preprocessing including scaling** "
   ]
  },
  {
   "cell_type": "code",
   "execution_count": null,
   "metadata": {},
   "outputs": [],
   "source": [
    "# Import the training data set of 'facies_training_data.csv'\n",
    "# Convert date string to Panda datetime format\n"
   ]
  },
  {
   "cell_type": "code",
   "execution_count": null,
   "metadata": {},
   "outputs": [],
   "source": [
    "# Delete the null values:\n",
    "# Looking at the count values, most values have 4149 valid values except for PE, which has 3232. \n",
    "# We will drop the feature vectors that don't have a valid PE entry.\n"
   ]
  },
  {
   "cell_type": "code",
   "execution_count": null,
   "metadata": {},
   "outputs": [],
   "source": [
    "# As you did in the lab, take 'Facies' values as the output put values.\n",
    "# Also, by droping 'Formation', 'Well Name', 'Depth', *'NM_M'*, 'RELPOS','Facies' in the training data,\n",
    "# you can take *GR, ILD_log10, DeltaPHI, PHIND, PE*,  as feature vectors as done in the lab\n"
   ]
  },
  {
   "cell_type": "code",
   "execution_count": null,
   "metadata": {},
   "outputs": [],
   "source": [
    "# By using StandardScaler in sklearn libraries,\n",
    "# scale the feature vectors.\n"
   ]
  },
  {
   "cell_type": "code",
   "execution_count": null,
   "metadata": {},
   "outputs": [],
   "source": [
    "# Split the training set and test set for the training data (80%-20%, random_state=42). \n",
    "# We *don't* take three split data sets such as training set, validation set, test set, but only two split data set.\n"
   ]
  },
  {
   "cell_type": "code",
   "execution_count": null,
   "metadata": {},
   "outputs": [],
   "source": []
  },
  {
   "cell_type": "markdown",
   "metadata": {},
   "source": [
    "   **Q.2-2 (1 point) Logistic Regression** "
   ]
  },
  {
   "cell_type": "code",
   "execution_count": null,
   "metadata": {},
   "outputs": [],
   "source": [
    "# Perform Logistic Regression by using sklearn libraries as you did in the lab.\n",
    "# Please take the following hyperparmeters: C=0.1,random_state=1\n",
    "\n",
    "# After training, perform prediction with the test data set.\n"
   ]
  },
  {
   "cell_type": "code",
   "execution_count": null,
   "metadata": {},
   "outputs": [],
   "source": [
    "# Print accuracy by using the following code. \n",
    "# y_test is the output of the test set\n",
    "# y_pred_LR is the prediction of  the test data set, ie, the previous solution.\n",
    "\n",
    "from sklearn.metrics import confusion_matrix\n",
    "\n",
    "conf = confusion_matrix(y_test, y_pred_LR)"
   ]
  },
  {
   "cell_type": "code",
   "execution_count": 18,
   "metadata": {},
   "outputs": [],
   "source": [
    "def accuracy(conf):\n",
    "    total_correct = 0.\n",
    "    nb_classes = conf.shape[0]\n",
    "    for i in np.arange(0,nb_classes):\n",
    "        total_correct += conf[i,i]\n",
    "    acc = total_correct/sum(sum(conf))\n",
    "    return acc"
   ]
  },
  {
   "cell_type": "code",
   "execution_count": null,
   "metadata": {},
   "outputs": [],
   "source": []
  },
  {
   "cell_type": "markdown",
   "metadata": {},
   "source": [
    "   **Q.2-3 (1 points) Support Vector Machine** "
   ]
  },
  {
   "cell_type": "code",
   "execution_count": null,
   "metadata": {},
   "outputs": [],
   "source": [
    "# Perform Support Vector Machine by using sklearn libraries as you did in the lab.\n",
    "# Please take the following hyperparmeters: C=0.1,random_state=1\n",
    "\n",
    "# After training, perform prediction with the test data set.\n",
    "\n",
    "# Just like the previous quesions of Logistic Regression, calucate accuracy.\n"
   ]
  },
  {
   "cell_type": "code",
   "execution_count": null,
   "metadata": {},
   "outputs": [],
   "source": [
    "# Redo tranning and calculate accuracy by using Support vector machine with the Gaussian kerenel\n",
    "# kernel='rbf',gamma='scale',C=0.1,random_state=1\n"
   ]
  },
  {
   "cell_type": "code",
   "execution_count": null,
   "metadata": {},
   "outputs": [],
   "source": []
  },
  {
   "cell_type": "markdown",
   "metadata": {},
   "source": [
    "**Q. 2-4 (1 points) Decision Tree & Random forest** "
   ]
  },
  {
   "cell_type": "code",
   "execution_count": null,
   "metadata": {},
   "outputs": [],
   "source": [
    "# Redo tranning and calculate accuracy by using Decision Tree Classifier \n",
    "# with criterion='gini',max_depth=6,random_state=1\n"
   ]
  },
  {
   "cell_type": "code",
   "execution_count": null,
   "metadata": {},
   "outputs": [],
   "source": [
    "# Redo tranning and calculate accuracy by using Random Forest Classifier \n",
    "# with criterion='gini', max_depth=4, n_estimators=20, random_state=1,n_jobs=2\n"
   ]
  },
  {
   "cell_type": "code",
   "execution_count": null,
   "metadata": {},
   "outputs": [],
   "source": []
  },
  {
   "cell_type": "markdown",
   "metadata": {},
   "source": [
    "**Q. 2-5 (1 point) KNN** "
   ]
  },
  {
   "cell_type": "code",
   "execution_count": null,
   "metadata": {},
   "outputs": [],
   "source": [
    "# Redo tranning and calculate accuracy by K-Neighbors Classifier\n",
    "# with n_neighbors=5,p=2,metric='minkowski\n"
   ]
  },
  {
   "cell_type": "code",
   "execution_count": null,
   "metadata": {},
   "outputs": [],
   "source": []
  },
  {
   "cell_type": "markdown",
   "metadata": {},
   "source": [
    "**Q. 3 (3 points) Clustering** "
   ]
  },
  {
   "cell_type": "markdown",
   "metadata": {},
   "source": [
    "**Q. 3-1 (1.5 point) KMeans Clustering** "
   ]
  },
  {
   "cell_type": "code",
   "execution_count": 26,
   "metadata": {},
   "outputs": [],
   "source": [
    "# Take the iris data set for clustering. \n",
    "from sklearn import datasets\n",
    "iris=datasets.load_iris()\n",
    "X_train=iris.data[:,[2,3]]"
   ]
  },
  {
   "cell_type": "code",
   "execution_count": 27,
   "metadata": {},
   "outputs": [],
   "source": [
    "# For the clustering, we only use the feature data (X_train, X_test)\n",
    "# Carry out the feature scaling for X_train, X_test\n"
   ]
  },
  {
   "cell_type": "code",
   "execution_count": 28,
   "metadata": {},
   "outputs": [],
   "source": [
    "# Perform the KMeans method for clustering with the following hyperparameters.\n",
    "# (n_clusters=2,init='random',n_init=100,tol=1e-04,random_state=0)\n"
   ]
  },
  {
   "cell_type": "code",
   "execution_count": null,
   "metadata": {},
   "outputs": [],
   "source": [
    "# Run the followign code for visualization.\n",
    "# y_km is the results vector after clustering.\n",
    "\n",
    "plt.scatter(X_train_std[y_km==0,0],X_train_std[y_km==0,1],c='lightgreen',marker='s',edgecolor='black',s=50,label='Cluster 1')\n",
    "plt.scatter(X_train_std[y_km==1,0],X_train_std[y_km==1,1],c='orange',marker='o',edgecolor='orange',s=50,label='Cluster 2')\n",
    "plt.scatter(X_train_std[y_km==2,0],X_train_std[y_km==2,1],c='lightblue',marker='v',edgecolor='lightblue',s=50,label='Cluster 3')\n",
    "plt.scatter(km.cluster_centers_[:,0],km.cluster_centers_[:,1],c='red',marker='*',edgecolor='red',s=50,label='Centroids')\n",
    "plt.legend(scatterpoints=1)"
   ]
  },
  {
   "cell_type": "code",
   "execution_count": null,
   "metadata": {},
   "outputs": [],
   "source": []
  },
  {
   "cell_type": "markdown",
   "metadata": {},
   "source": [
    "**Q. 3-2 (1.5 point) DBSCAN Clustering** "
   ]
  },
  {
   "cell_type": "code",
   "execution_count": 34,
   "metadata": {},
   "outputs": [],
   "source": [
    "# Perform the DBSCAN method for clustering with the following hyperparameters, using the same iris data set.\n",
    "# (eps=0.5,min_samples=6,metric='euclidean')\n"
   ]
  },
  {
   "cell_type": "code",
   "execution_count": null,
   "metadata": {},
   "outputs": [],
   "source": [
    "# Run the followign code for visualization.\n",
    "# y_db is the results vector after DBSCAN clustering.\n",
    "\n",
    "plt.scatter(X_train_std[y_db==0,0],X_train_std[y_db==0,1],c='lightgreen',marker='s',edgecolor='black',s=50,label='Cluster 1')\n",
    "plt.scatter(X_train_std[y_db==1,0],X_train_std[y_db==1,1],c='orange',marker='o',edgecolor='orange',s=50,label='Cluster 2')\n",
    "plt.scatter(X_train_std[y_db==-1,0],X_train_std[y_db==-1,1],c='lightblue',marker='v',edgecolor='lightblue',s=50,label='Noise')\n",
    "plt.scatter(X_train_std[y_db==2,0],X_train_std[y_db==2,1],c='red',marker='*',edgecolor='red',s=50,label='Cluster 3')\n",
    "plt.legend(scatterpoints=1)"
   ]
  },
  {
   "cell_type": "code",
   "execution_count": null,
   "metadata": {},
   "outputs": [],
   "source": []
  },
  {
   "cell_type": "markdown",
   "metadata": {},
   "source": [
    "**Q.4 (1 point) PCA** "
   ]
  },
  {
   "cell_type": "code",
   "execution_count": 41,
   "metadata": {},
   "outputs": [
    {
     "data": {
      "text/plain": [
       "<matplotlib.legend.Legend at 0x2bec3b0cdd8>"
      ]
     },
     "execution_count": 41,
     "metadata": {},
     "output_type": "execute_result"
    },
    {
     "data": {
      "image/png": "[encoded data removed]",
      "text/plain": [
       "<Figure size 432x288 with 1 Axes>"
      ]
     },
     "metadata": {
      "needs_background": "light"
     },
     "output_type": "display_data"
    }
   ],
   "source": [
    "# Firt run the following code to get another data set.\n",
    "from sklearn.datasets import make_moons\n",
    "Xd, yd=make_moons(n_samples=200, noise=0.05, random_state=0)\n",
    "plt.scatter(Xd[:,0],Xd[:,1])\n",
    "\n",
    "from sklearn.cluster import DBSCAN\n",
    "db=DBSCAN(eps=0.2,min_samples=5,metric='euclidean')\n",
    "y_db=db.fit_predict(Xd)\n",
    "plt.scatter(Xd[y_db==0,0],Xd[y_db==0,1],c='lightgreen',marker='s',edgecolor='black',s=50,label='Cluster 1')\n",
    "plt.scatter(Xd[y_db==1,0],Xd[y_db==1,1],c='orange',marker='o',edgecolor='orange',s=50,label='Cluster 2')\n",
    "plt.legend()"
   ]
  },
  {
   "cell_type": "code",
   "execution_count": null,
   "metadata": {},
   "outputs": [],
   "source": [
    "# Perform the Kernel PCA method with the following hyperparameters.\n",
    "# (n_components=1, kernel=\"rbf\", gamma=12.5)\n",
    "\n",
    "# Then visualize the results \n"
   ]
  },
  {
   "cell_type": "markdown",
   "metadata": {},
   "source": [
    "**Q.5 (2 points) Neural Networks** "
   ]
  },
  {
   "cell_type": "code",
   "execution_count": 2,
   "metadata": {},
   "outputs": [],
   "source": [
    "import tensorflow as tf\n",
    "\n",
    "# Run the following code for creating a data set of the XOR problem. \n",
    "np.random.seed(1)\n",
    "x=np.random.uniform(low=-1, high=1, size=(200,2))\n",
    "y=np.ones(len(x))\n",
    "\n",
    "y[x[:,0]*x[:,1]<0]=0\n",
    "# Split the training set into the training set and the validation set\n",
    "x_train=x[:100,:]\n",
    "y_train=y[:100]\n",
    "\n",
    "x_valid=x[100:,:]\n",
    "y_valid=y[100:]"
   ]
  },
  {
   "cell_type": "code",
   "execution_count": null,
   "metadata": {},
   "outputs": [],
   "source": [
    "# Make computer code for the follwoing jobs.\n",
    "\n",
    "# Creat 3 hidden layers and one output layers by using the folloiwng options.\n",
    "# Layer 1: units=3,input_shape=(2,), activation='relu' (This a combined layer that includes the input layer and a hidden layer)\n",
    "# Layer 2: units=5, activation='relu' (a hidden layer)\n",
    "# Layer 3: units=4, activation='relu' (a hidden layer)\n",
    "# Layer 4: units=1, activation='sigmoid' (output layer)\n"
   ]
  },
  {
   "cell_type": "code",
   "execution_count": null,
   "metadata": {},
   "outputs": [],
   "source": [
    "# Make computer code for the follwoing jobs.\n",
    "\n",
    "# Perform Neural Networks with the following hyperparameters.\n",
    "# optimizer=tf.keras.optimizers.SGD(), \n",
    "# loss=tf.keras.losses.BinaryCrossentropy(),\n",
    "# metrics=[tf.keras.metrics.BinaryAccuracy()]\n",
    "# epochs=200, batch_size=2, verbose=0"
   ]
  },
  {
   "cell_type": "code",
   "execution_count": null,
   "metadata": {},
   "outputs": [],
   "source": [
    "# Run the following code for visualization\n",
    "\n",
    "from mlxtend.plotting import plot_decision_regions\n",
    "\n",
    "history=hist.history\n",
    "fig=plt.figure(figsize=(16,4))\n",
    "ax=fig.add_subplot(1,3,1)\n",
    "plt.plot(history['loss'],lw=4)\n",
    "plt.plot(history['val_loss'],lw=4)\n",
    "plt.legend('Train loss','Validation loss', fontsize=15)\n",
    "ax.set_xlabel('Epochs',size=15)\n",
    "ax=fig.add_subplot(1,3,2)\n",
    "plt.plot(history['binary_accuracy'],lw=4)\n",
    "plt.plot(history['val_binary_accuracy'],lw=4)\n",
    "plt.legend('Train Acc','Validation Acc', fontsize=15)\n",
    "ax.set_xlabel('Epochs',size=15)\n",
    "ax=fig.add_subplot(1,3,3)\n",
    "plot_decision_regions(X=x_valid,y=y_valid.astype(np.integer),clf=model)\n",
    "ax.set_xlabel(r'$x_1$', size=15)\n",
    "ax.xaxis.set_label_coords(1,-0.025)\n",
    "ax.set_ylabel(r'$x_s$', size=15)\n",
    "ax.yaxis.set_label_coords(-0.025,1)\n",
    "plt.show()"
   ]
  },
  {
   "cell_type": "code",
   "execution_count": null,
   "metadata": {},
   "outputs": [],
   "source": []
  }
 ],
 "metadata": {
  "kernelspec": {
   "display_name": "Python 3",
   "language": "python",
   "name": "python3"
  },
  "language_info": {
   "codemirror_mode": {
    "name": "ipython",
    "version": 3
   },
   "file_extension": ".py",
   "mimetype": "text/x-python",
   "name": "python",
   "nbconvert_exporter": "python",
   "pygments_lexer": "ipython3",
   "version": "3.7.3"
  }
 },
 "nbformat": 4,
 "nbformat_minor": 2
}
